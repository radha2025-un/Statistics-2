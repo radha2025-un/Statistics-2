{
  "nbformat": 4,
  "nbformat_minor": 0,
  "metadata": {
    "colab": {
      "provenance": []
    },
    "kernelspec": {
      "name": "python3",
      "display_name": "Python 3"
    },
    "language_info": {
      "name": "python"
    }
  },
  "cells": [
    {
      "cell_type": "code",
      "execution_count": 1,
      "metadata": {
        "colab": {
          "base_uri": "https://localhost:8080/"
        },
        "id": "Yu5SoUJ-dV0X",
        "outputId": "f94f6d78-c7b2-4327-8be7-e8b759e70a03"
      },
      "outputs": [
        {
          "output_type": "stream",
          "name": "stdout",
          "text": [
            "Z-Score : 4.714045207910317\n",
            "Critical Z-Score : 1.6448536269514722\n",
            "Reject Null Hypothesis\n",
            "p-value : 1.2142337364462463e-06\n",
            "Reject Null Hypothesis\n"
          ]
        }
      ],
      "source": [
        "# Import the necessary libraries\n",
        "import numpy as np\n",
        "import scipy.stats as stats\n",
        "\n",
        "# Given information\n",
        "sample_mean = 110\n",
        "population_mean = 100\n",
        "population_std = 15\n",
        "sample_size = 50\n",
        "alpha = 0.05\n",
        "\n",
        "# compute the z-score\n",
        "z_score = (sample_mean-population_mean)/(population_std/np.sqrt(50))\n",
        "print('Z-Score :',z_score)\n",
        "\n",
        "# Approach 1: Using Critical Z-Score\n",
        "\n",
        "# Critical Z-Score\n",
        "z_critical = stats.norm.ppf(1-alpha)\n",
        "print('Critical Z-Score :',z_critical)\n",
        "\n",
        "# Hypothesis\n",
        "if z_score >  z_critical:\n",
        "    print(\"Reject Null Hypothesis\")\n",
        "else:\n",
        "  print(\"Fail to Reject Null Hypothesis\")\n",
        "\n",
        "# Approach 2: Using P-value\n",
        "\n",
        "# P-Value : Probability of getting less than a Z-score\n",
        "p_value = 1-stats.norm.cdf(z_score)\n",
        "\n",
        "print('p-value :',p_value)\n",
        "\n",
        "# Hypothesis\n",
        "if p_value <  alpha:\n",
        "    print(\"Reject Null Hypothesis\")\n",
        "else:\n",
        "  print(\"Fail to Reject Null Hypothesis\")"
      ]
    },
    {
      "cell_type": "code",
      "source": [
        "import numpy as np\n",
        "from scipy.stats import t\n",
        "\n",
        "\n",
        "def one_sample_t_test(sample, population_mean, alpha=0.05, tail=\"two\"):\n",
        "    # Step 1: Calculate T-score\n",
        "    sample_mean = np.mean(sample)\n",
        "    sample_std = np.std(sample, ddof=1)\n",
        "    sample_size = len(sample)\n",
        "\n",
        "    t_score = (sample_mean - population_mean) / \\\n",
        "        (sample_std / np.sqrt(sample_size))\n",
        "\n",
        "    # Step 2: Determine degrees of freedom\n",
        "    df = sample_size - 1\n",
        "\n",
        "    # Step 3: Identify the appropriate t-distribution\n",
        "    # No need to explicitly specify degrees of freedom for one-sample t-test in scipy.stats.t\n",
        "\n",
        "    # Step 4: Find the p-value\n",
        "    if tail == \"two\":\n",
        "        p_value = t.sf(np.abs(t_score), df) * 2  # for two-tailed test\n",
        "    elif tail == \"left\":\n",
        "        p_value = t.sf(t_score, df)  # for left-tailed test\n",
        "    elif tail == \"right\":\n",
        "        p_value = t.sf(-t_score, df)  # for right-tailed test\n",
        "    else:\n",
        "        raise ValueError(\n",
        "            \"Invalid tail argument. Use 'two', 'left', or 'right'.\")\n",
        "\n",
        "    # Step 5: Interpret the p-value\n",
        "    print(\"P-value:\", p_value)\n",
        "\n",
        "    if p_value < alpha:\n",
        "        print(\n",
        "            \"Reject the null hypothesis. There is a statistically significant difference.\")\n",
        "    else:\n",
        "        print(\"Fail to reject the null hypothesis. There is no statistically significant difference.\")\n",
        "\n",
        "\n",
        "# Let's generate a sample for experiment\n",
        "np.random.seed(42)\n",
        "# Generating a sample\n",
        "sample_data = np.random.normal(loc=77, scale=10, size=250)\n",
        "population_mean = 75\n",
        "\n",
        "# Example for a two-tailed test\n",
        "one_sample_t_test(sample_data, population_mean, tail=\"two\")"
      ],
      "metadata": {
        "colab": {
          "base_uri": "https://localhost:8080/"
        },
        "id": "Yn11ar9zddmI",
        "outputId": "72675f5a-fc33-474f-f9b4-e92bd4393db8"
      },
      "execution_count": 2,
      "outputs": [
        {
          "output_type": "stream",
          "name": "stdout",
          "text": [
            "P-value: 0.0013870092433008773\n",
            "Reject the null hypothesis. There is a statistically significant difference.\n"
          ]
        }
      ]
    },
    {
      "cell_type": "code",
      "source": [
        "import numpy as np\n",
        "import scipy.stats as stats\n",
        "\n",
        "\n",
        "# Group A (Offline Classes)\n",
        "n1 = 50\n",
        "x1 = 75\n",
        "s1 = 10\n",
        "\n",
        "# Group B (Online Classes)\n",
        "n2 = 60\n",
        "x2 = 80\n",
        "s2 = 12\n",
        "\n",
        "# Null Hypothesis = mu_1-mu_2 = 0\n",
        "# Hypothesized difference (under the null hypothesis)\n",
        "D = 0\n",
        "\n",
        "# Set the significance level\n",
        "alpha = 0.05\n",
        "\n",
        "# Calculate the test statistic (z-score)\n",
        "z_score = ((x1 - x2) - D) / np.sqrt((s1**2 / n1) + (s2**2 / n2))\n",
        "print('Z-Score:', np.abs(z_score))\n",
        "\n",
        "# Calculate the critical value\n",
        "z_critical = stats.norm.ppf(1 - alpha/2)\n",
        "print('Critical Z-Score:',z_critical)\n",
        "\n",
        "\n",
        "# Compare the test statistic with the critical value\n",
        "if np.abs(z_score) > z_critical:\n",
        "    print(\"\"\"Reject the null hypothesis.\n",
        "There is a significant difference between the online and offline classes.\"\"\")\n",
        "else:\n",
        "    print(\"\"\"Fail to reject the null hypothesis.\n",
        "There is not enough evidence to suggest a significant difference between the online and offline classes.\"\"\")\n",
        "\n",
        "# Approach 2: Using P-value\n",
        "\n",
        "# P-Value : Probability of getting less than a Z-score\n",
        "p_value = 2 * (1 - stats.norm.cdf(np.abs(z_score)))\n",
        "print('P-Value :',p_value)\n",
        "\n",
        "# Compare the p-value with the significance level\n",
        "if p_value < alpha:\n",
        "    print(\"\"\"Reject the null hypothesis.\n",
        "There is a significant difference between the online and offline classes.\"\"\")\n",
        "else:\n",
        "    print(\"\"\"Fail to reject the null hypothesis.\n",
        "There is not enough evidence to suggest significant difference between the online and offline classes.\"\"\")"
      ],
      "metadata": {
        "colab": {
          "base_uri": "https://localhost:8080/"
        },
        "id": "rsQyOem5dqnb",
        "outputId": "e3769329-6e1e-4be5-c9e9-608dd2de13b5"
      },
      "execution_count": 3,
      "outputs": [
        {
          "output_type": "stream",
          "name": "stdout",
          "text": [
            "Z-Score: 2.3836564731139807\n",
            "Critical Z-Score: 1.959963984540054\n",
            "Reject the null hypothesis.\n",
            "There is a significant difference between the online and offline classes.\n",
            "P-Value : 0.01714159544079563\n",
            "Reject the null hypothesis.\n",
            "There is a significant difference between the online and offline classes.\n"
          ]
        }
      ]
    },
    {
      "cell_type": "code",
      "source": [
        "import scipy.stats as stats\n",
        "import math\n",
        "\n",
        "# Specify the sample mean (x_bar), the sample standard deviation (s), the mean claimed in the null-hypothesis (mu_null), and the sample size (n)\n",
        "x_bar = 62.1\n",
        "s = 13.46\n",
        "mu_null = 60\n",
        "n = 30\n",
        "\n",
        "# Calculate and print the test statistic\n",
        "print((x_bar - mu_null)/(s/math.sqrt(n)))\n"
      ],
      "metadata": {
        "colab": {
          "base_uri": "https://localhost:8080/"
        },
        "id": "NiHWuArEeAip",
        "outputId": "4e5b53ff-69ca-4747-a165-160f45a3fa64"
      },
      "execution_count": 4,
      "outputs": [
        {
          "output_type": "stream",
          "name": "stdout",
          "text": [
            "0.854544851976857\n"
          ]
        }
      ]
    },
    {
      "cell_type": "code",
      "source": [
        "import numpy as np\n",
        "from scipy import stats\n",
        "\n",
        "# Data\n",
        "before_treatment = np.array([120, 122, 118, 130, 125, 128, 115, 121, 123, 119])\n",
        "after_treatment = np.array([115, 120, 112, 128, 122, 125, 110, 117, 119, 114])\n",
        "\n",
        "# Step 1: Null and Alternate Hypotheses\n",
        "# Null Hypothesis: The new drug has no effect on blood pressure.\n",
        "# Alternate Hypothesis: The new drug has an effect on blood pressure.\n",
        "null_hypothesis = \"The new drug has no effect on blood pressure.\"\n",
        "alternate_hypothesis = \"The new drug has an effect on blood pressure.\"\n",
        "\n",
        "# Step 2: Significance Level\n",
        "alpha = 0.05\n",
        "\n",
        "# Step 3: Paired T-test\n",
        "t_statistic, p_value = stats.ttest_rel(after_treatment, before_treatment)\n",
        "\n",
        "# Step 4: Calculate T-statistic manually\n",
        "m = np.mean(after_treatment - before_treatment)\n",
        "s = np.std(after_treatment - before_treatment, ddof=1)  # using ddof=1 for sample standard deviation\n",
        "n = len(before_treatment)\n",
        "t_statistic_manual = m / (s / np.sqrt(n))\n",
        "\n",
        "# Step 5: Decision\n",
        "if p_value <= alpha:\n",
        "    decision = \"Reject\"\n",
        "else:\n",
        "    decision = \"Fail to reject\"\n",
        "\n",
        "# Conclusion\n",
        "if decision == \"Reject\":\n",
        "    conclusion = \"There is statistically significant evidence that the average blood pressure before and after treatment with the new drug is different.\"\n",
        "else:\n",
        "    conclusion = \"There is insufficient evidence to claim a significant difference in average blood pressure before and after treatment with the new drug.\"\n",
        "\n",
        "# Display results\n",
        "print(\"T-statistic (from scipy):\", t_statistic)\n",
        "print(\"P-value (from scipy):\", p_value)\n",
        "print(\"T-statistic (calculated manually):\", t_statistic_manual)\n",
        "print(f\"Decision: {decision} the null hypothesis at alpha={alpha}.\")\n",
        "print(\"Conclusion:\", conclusion)"
      ],
      "metadata": {
        "colab": {
          "base_uri": "https://localhost:8080/"
        },
        "id": "lyyBCbTzeet5",
        "outputId": "a4643cfd-52c2-4a71-e52e-ecc0c90320ec"
      },
      "execution_count": 5,
      "outputs": [
        {
          "output_type": "stream",
          "name": "stdout",
          "text": [
            "T-statistic (from scipy): -9.0\n",
            "P-value (from scipy): 8.538051223166285e-06\n",
            "T-statistic (calculated manually): -9.0\n",
            "Decision: Reject the null hypothesis at alpha=0.05.\n",
            "Conclusion: There is statistically significant evidence that the average blood pressure before and after treatment with the new drug is different.\n"
          ]
        }
      ]
    },
    {
      "cell_type": "code",
      "source": [
        "# Python program to demonstrate how to\n",
        "# perform two sample T-test\n",
        "\n",
        "# Import the library\n",
        "import scipy.stats as stats\n",
        "\n",
        "# Creating data groups\n",
        "data_group1 = np.array([14, 15, 15, 16, 13, 8, 14,\n",
        "\t\t\t\t\t\t17, 16, 14, 19, 20, 21, 15,\n",
        "\t\t\t\t\t\t15, 16, 16, 13, 14, 12])\n",
        "\n",
        "data_group2 = np.array([15, 17, 14, 17, 14, 8, 12,\n",
        "\t\t\t\t\t\t19, 19, 14, 17, 22, 24, 16,\n",
        "\t\t\t\t\t\t13, 16, 13, 18, 15, 13])\n",
        "\n",
        "# Perform the two sample t-test with equal variances\n",
        "stats.ttest_ind(a=data_group1, b=data_group2, equal_var=True)\n"
      ],
      "metadata": {
        "id": "aO9yFjnrepgZ"
      },
      "execution_count": null,
      "outputs": []
    },
    {
      "cell_type": "code",
      "source": [
        "# Importing library\n",
        "import scipy.stats as stats\n",
        "\n",
        "# pre holds the mileage before\n",
        "# applying the different engine oil\n",
        "pre = [30, 31, 34, 40, 36, 35,\n",
        "       34, 30, 28, 29]\n",
        "\n",
        "# post holds the mileage after\n",
        "# applying the different engine oil\n",
        "post = [30, 31, 32, 38, 32, 31,\n",
        "        32, 29, 28, 30]\n",
        "\n",
        "# Performing the paired sample t-test\n",
        "stats.ttest_rel(pre, post)"
      ],
      "metadata": {
        "colab": {
          "base_uri": "https://localhost:8080/"
        },
        "id": "HZQjKJTEe1_y",
        "outputId": "ba4de7f8-9c79-4b5e-a917-e7ff5bd91211"
      },
      "execution_count": 8,
      "outputs": [
        {
          "output_type": "execute_result",
          "data": {
            "text/plain": [
              "TtestResult(statistic=2.584921310565987, pvalue=0.029457853822895275, df=9)"
            ]
          },
          "metadata": {},
          "execution_count": 8
        }
      ]
    },
    {
      "cell_type": "code",
      "source": [
        "import numpy as np\n",
        "import random\n",
        "import scipy.stats as stats\n",
        "\n",
        "# We will use random data for the samples and label them as 'a' and 'b' respectively\n",
        "a = [random.gauss(50, 20) for x in range(30)]\n",
        "b = [random.gauss(55, 15) for x in range(30)]\n",
        "\n",
        "# One Sample T-test for sample 'a'\n",
        "# Null Hypothesis: The sample mean = population mean(45)\n",
        "t_stat, p_value = stats.ttest_1samp(a, 45, axis=0)\n",
        "\n",
        "\n",
        "print(\"T-statistic:\", t_stat)\n",
        "print(\"P-value:\", p_value)\n",
        "print(np.mean(a))\n",
        "\n",
        "# Interpretation of the results: The p-value is less than 0.05(signifance level) and the sample mean(appro. 53) is also ≠ population mean(45).\n",
        "# We reject the null hypothesis"
      ],
      "metadata": {
        "id": "mqbY8uJVe-Qd",
        "outputId": "669ac342-794c-42d9-f94c-4b1ee16c5c08",
        "colab": {
          "base_uri": "https://localhost:8080/"
        }
      },
      "execution_count": 7,
      "outputs": [
        {
          "output_type": "stream",
          "name": "stdout",
          "text": [
            "T-statistic: 4.207600466401385\n",
            "P-value: 0.00022706959412094023\n",
            "55.64673100822467\n"
          ]
        }
      ]
    },
    {
      "cell_type": "code",
      "source": [
        "import numpy as np\n",
        "import scipy.stats as st\n",
        "\n",
        "# define sample data\n",
        "gfg_data = np.random.randint(5, 10, 100)\n",
        "\n",
        "# create 90% confidence interval\n",
        "# for population mean weight\n",
        "st.norm.interval(alpha=0.90,\n",
        "                 loc=np.mean(gfg_data),\n",
        "                 scale=st.sem(gfg_data)"
      ],
      "metadata": {
        "id": "UMF0-Z54fTRW",
        "outputId": "cfa1df8b-2aae-49af-80ea-ca5f304732e5",
        "colab": {
          "base_uri": "https://localhost:8080/",
          "height": 106
        }
      },
      "execution_count": 9,
      "outputs": [
        {
          "output_type": "error",
          "ename": "SyntaxError",
          "evalue": "incomplete input (<ipython-input-9-ca3eeff1d4f5>, line 11)",
          "traceback": [
            "\u001b[0;36m  File \u001b[0;32m\"<ipython-input-9-ca3eeff1d4f5>\"\u001b[0;36m, line \u001b[0;32m11\u001b[0m\n\u001b[0;31m    scale=st.sem(gfg_data)\u001b[0m\n\u001b[0m                          ^\u001b[0m\n\u001b[0;31mSyntaxError\u001b[0m\u001b[0;31m:\u001b[0m incomplete input\n"
          ]
        }
      ]
    },
    {
      "cell_type": "code",
      "source": [
        "#import numpy as np\n",
        "import scipy.stats as st\n",
        "\n",
        "# define sample data\n",
        "gfg_data = [1, 1, 1, 2, 2, 2, 3, 3, 3, 3,\n",
        "            3, 4, 4, 5, 5, 5, 6, 7, 8, 10]\n",
        "\n",
        "# create 90% confidence interval\n",
        "st.t.interval(alpha=0.90, df=len(gfg_data)-1,\n",
        "              loc=np.mean(gfg_data),\n",
        "              scale=st.sem(gfg_data))"
      ],
      "metadata": {
        "id": "lFE66XPPffQx",
        "outputId": "b7891329-de7a-459b-97de-d8e0ce9b1e7a",
        "colab": {
          "base_uri": "https://localhost:8080/",
          "height": 211
        }
      },
      "execution_count": 13,
      "outputs": [
        {
          "output_type": "error",
          "ename": "TypeError",
          "evalue": "rv_generic.interval() missing 1 required positional argument: 'confidence'",
          "traceback": [
            "\u001b[0;31m---------------------------------------------------------------------------\u001b[0m",
            "\u001b[0;31mTypeError\u001b[0m                                 Traceback (most recent call last)",
            "\u001b[0;32m<ipython-input-13-3f9738f63cca>\u001b[0m in \u001b[0;36m<cell line: 0>\u001b[0;34m()\u001b[0m\n\u001b[1;32m      7\u001b[0m \u001b[0;34m\u001b[0m\u001b[0m\n\u001b[1;32m      8\u001b[0m \u001b[0;31m# create 90% confidence interval\u001b[0m\u001b[0;34m\u001b[0m\u001b[0;34m\u001b[0m\u001b[0m\n\u001b[0;32m----> 9\u001b[0;31m st.t.interval(alpha=0.90, df=len(gfg_data)-1, \n\u001b[0m\u001b[1;32m     10\u001b[0m               \u001b[0mloc\u001b[0m\u001b[0;34m=\u001b[0m\u001b[0mnp\u001b[0m\u001b[0;34m.\u001b[0m\u001b[0mmean\u001b[0m\u001b[0;34m(\u001b[0m\u001b[0mgfg_data\u001b[0m\u001b[0;34m)\u001b[0m\u001b[0;34m,\u001b[0m\u001b[0;34m\u001b[0m\u001b[0;34m\u001b[0m\u001b[0m\n\u001b[1;32m     11\u001b[0m               scale=st.sem(gfg_data)) \n",
            "\u001b[0;31mTypeError\u001b[0m: rv_generic.interval() missing 1 required positional argument: 'confidence'"
          ]
        }
      ]
    },
    {
      "cell_type": "code",
      "source": [
        "#Import the necessary libraries\n",
        "import torch\n",
        "import pyro\n",
        "import pyro.distributions as dist\n",
        "from pyro.infer import SVI, Trace_ELBO, Predictive\n",
        "from pyro.optim import Adam\n",
        "import matplotlib.pyplot as plt\n",
        "import seaborn as sns\n",
        "\n",
        "\n",
        "# Generate some sample data\n",
        "torch.manual_seed(0)\n",
        "X = torch.linspace(0, 10, 100)\n",
        "true_slope = 2\n",
        "true_intercept = 1\n",
        "Y = true_intercept + true_slope * X + torch.randn(100)\n",
        "\n",
        "# Define the Bayesian regression model\n",
        "def model(X, Y):\n",
        "\t# Priors for the parameters\n",
        "\tslope = pyro.sample(\"slope\", dist.Normal(0, 10))\n",
        "\tintercept = pyro.sample(\"intercept\", dist.Normal(0, 10))\n",
        "\tsigma = pyro.sample(\"sigma\", dist.HalfNormal(1))\n",
        "\n",
        "\t# Expected value of the outcome\n",
        "\tmu = intercept + slope * X\n",
        "\n",
        "\t# Likelihood (sampling distribution) of the observations\n",
        "\twith pyro.plate(\"data\", len(X)):\n",
        "\t\tpyro.sample(\"obs\", dist.Normal(mu, sigma), obs=Y)\n",
        "\n",
        "# Run Bayesian inference using SVI (Stochastic Variational Inference)\n",
        "def guide(X, Y):\n",
        "\t# Approximate posterior distributions for the parameters\n",
        "\tslope_loc = pyro.param(\"slope_loc\", torch.tensor(0.0))\n",
        "\tslope_scale = pyro.param(\"slope_scale\", torch.tensor(1.0),\n",
        "\t\t\t\t\t\t\tconstraint=dist.constraints.positive)\n",
        "\tintercept_loc = pyro.param(\"intercept_loc\", torch.tensor(0.0))\n",
        "\tintercept_scale = pyro.param(\"intercept_scale\", torch.tensor(1.0),\n",
        "\t\t\t\t\t\t\t\tconstraint=dist.constraints.positive)\n",
        "\tsigma_loc = pyro.param(\"sigma_loc\", torch.tensor(1.0),\n",
        "\t\t\t\t\t\tconstraint=dist.constraints.positive)\n",
        "\n",
        "\t# Sample from the approximate posterior distributions\n",
        "\tslope = pyro.sample(\"slope\", dist.Normal(slope_loc, slope_scale))\n",
        "\tintercept = pyro.sample(\"intercept\", dist.Normal(intercept_loc,\n",
        "\t\t\t\t\t\t\t\t\t\t\t\t\tintercept_scale))\n",
        "\tsigma = pyro.sample(\"sigma\", dist.HalfNormal(sigma_loc))\n",
        "\n",
        "# Initialize the SVI and optimizer\n",
        "optim = Adam({\"lr\": 0.01})\n",
        "svi = SVI(model, guide, optim, loss=Trace_ELBO())\n",
        "\n",
        "# Run the inference loop\n",
        "num_iterations = 1000\n",
        "for i in range(num_iterations):\n",
        "\tloss = svi.step(X, Y)\n",
        "\tif (i + 1) % 100 == 0:\n",
        "\t\tprint(f\"Iteration {i + 1}/{num_iterations} - Loss: {loss}\")\n",
        "\n",
        "# Obtain posterior samples using Predictive\n",
        "predictive = Predictive(model, guide=guide, num_samples=1000)\n",
        "posterior = predictive(X, Y)\n",
        "\n",
        "# Extract the parameter samples\n",
        "slope_samples = posterior[\"slope\"]\n",
        "intercept_samples = posterior[\"intercept\"]\n",
        "sigma_samples = posterior[\"sigma\"]\n",
        "\n",
        "# Compute the posterior means\n",
        "slope_mean = slope_samples.mean()\n",
        "intercept_mean = intercept_samples.mean()\n",
        "sigma_mean = sigma_samples.mean()\n",
        "\n",
        "# Print the estimated parameters\n",
        "print(\"Estimated Slope:\", slope_mean.item())\n",
        "print(\"Estimated Intercept:\", intercept_mean.item())\n",
        "print(\"Estimated Sigma:\", sigma_mean.item())\n",
        "\n",
        "\n",
        "# Create subplots\n",
        "fig, axs = plt.subplots(1, 3, figsize=(15, 5))\n",
        "\n",
        "# Plot the posterior distribution of the slope\n",
        "sns.kdeplot(slope_samples, shade=True, ax=axs[0])\n",
        "axs[0].set_title(\"Posterior Distribution of Slope\")\n",
        "axs[0].set_xlabel(\"Slope\")\n",
        "axs[0].set_ylabel(\"Density\")\n",
        "\n",
        "# Plot the posterior distribution of the intercept\n",
        "sns.kdeplot(intercept_samples, shade=True, ax=axs[1])\n",
        "axs[1].set_title(\"Posterior Distribution of Intercept\")\n",
        "axs[1].set_xlabel(\"Intercept\")\n",
        "axs[1].set_ylabel(\"Density\")\n",
        "\n",
        "# Plot the posterior distribution of sigma\n",
        "sns.kdeplot(sigma_samples, shade=True, ax=axs[2])\n",
        "axs[2].set_title(\"Posterior Distribution of Sigma\")\n",
        "axs[2].set_xlabel(\"Sigma\")\n",
        "axs[2].set_ylabel(\"Density\")\n",
        "\n",
        "# Adjust the layout\n",
        "plt.tight_layout()\n",
        "\n",
        "# Show the plot\n",
        "plt.show()\n"
      ],
      "metadata": {
        "id": "p1mfRqdqfv_3",
        "outputId": "542c9c62-cc3e-4c45-fd06-825bbfb5e53d",
        "colab": {
          "base_uri": "https://localhost:8080/",
          "height": 383
        }
      },
      "execution_count": 15,
      "outputs": [
        {
          "output_type": "error",
          "ename": "ModuleNotFoundError",
          "evalue": "No module named 'pyro'",
          "traceback": [
            "\u001b[0;31m---------------------------------------------------------------------------\u001b[0m",
            "\u001b[0;31mModuleNotFoundError\u001b[0m                       Traceback (most recent call last)",
            "\u001b[0;32m<ipython-input-15-475f8b8850cf>\u001b[0m in \u001b[0;36m<cell line: 0>\u001b[0;34m()\u001b[0m\n\u001b[1;32m      1\u001b[0m \u001b[0;31m#Import the necessary libraries\u001b[0m\u001b[0;34m\u001b[0m\u001b[0;34m\u001b[0m\u001b[0m\n\u001b[1;32m      2\u001b[0m \u001b[0;32mimport\u001b[0m \u001b[0mtorch\u001b[0m\u001b[0;34m\u001b[0m\u001b[0;34m\u001b[0m\u001b[0m\n\u001b[0;32m----> 3\u001b[0;31m \u001b[0;32mimport\u001b[0m \u001b[0mpyro\u001b[0m\u001b[0;34m\u001b[0m\u001b[0;34m\u001b[0m\u001b[0m\n\u001b[0m\u001b[1;32m      4\u001b[0m \u001b[0;32mimport\u001b[0m \u001b[0mpyro\u001b[0m\u001b[0;34m.\u001b[0m\u001b[0mdistributions\u001b[0m \u001b[0;32mas\u001b[0m \u001b[0mdist\u001b[0m\u001b[0;34m\u001b[0m\u001b[0;34m\u001b[0m\u001b[0m\n\u001b[1;32m      5\u001b[0m \u001b[0;32mfrom\u001b[0m \u001b[0mpyro\u001b[0m\u001b[0;34m.\u001b[0m\u001b[0minfer\u001b[0m \u001b[0;32mimport\u001b[0m \u001b[0mSVI\u001b[0m\u001b[0;34m,\u001b[0m \u001b[0mTrace_ELBO\u001b[0m\u001b[0;34m,\u001b[0m \u001b[0mPredictive\u001b[0m\u001b[0;34m\u001b[0m\u001b[0;34m\u001b[0m\u001b[0m\n",
            "\u001b[0;31mModuleNotFoundError\u001b[0m: No module named 'pyro'",
            "",
            "\u001b[0;31m---------------------------------------------------------------------------\u001b[0;32m\nNOTE: If your import is failing due to a missing package, you can\nmanually install dependencies using either !pip or !apt.\n\nTo view examples of installing some common dependencies, click the\n\"Open Examples\" button below.\n\u001b[0;31m---------------------------------------------------------------------------\u001b[0m\n"
          ],
          "errorDetails": {
            "actions": [
              {
                "action": "open_url",
                "actionText": "Open Examples",
                "url": "/notebooks/snippets/importing_libraries.ipynb"
              }
            ]
          }
        }
      ]
    },
    {
      "cell_type": "code",
      "source": [
        "#Import the necessary libraries\n",
        "import torch\n",
        "import pyro\n",
        "import pyro.distributions as dist\n",
        "from pyro.infer import SVI, Trace_ELBO, Predictive\n",
        "from pyro.optim import Adam\n",
        "import matplotlib.pyplot as plt\n",
        "import seaborn as sns\n",
        "\n",
        "\n",
        "# Generate some sample data\n",
        "torch.manual_seed(0)\n",
        "X = torch.linspace(0, 10, 100)\n",
        "true_slope = 2\n",
        "true_intercept = 1\n",
        "Y = true_intercept + true_slope * X + torch.randn(100)\n",
        "\n",
        "# Define the Bayesian regression model\n",
        "def model(X, Y):\n",
        "\t# Priors for the parameters\n",
        "\tslope = pyro.sample(\"slope\", dist.Normal(0, 10))\n",
        "\tintercept = pyro.sample(\"intercept\", dist.Normal(0, 10))\n",
        "\tsigma = pyro.sample(\"sigma\", dist.HalfNormal(1))\n",
        "\n",
        "\t# Expected value of the outcome\n",
        "\tmu = intercept + slope * X\n",
        "\n",
        "\t# Likelihood (sampling distribution) of the observations\n",
        "\twith pyro.plate(\"data\", len(X)):\n",
        "\t\tpyro.sample(\"obs\", dist.Normal(mu, sigma), obs=Y)\n",
        "\n",
        "# Run Bayesian inference using SVI (Stochastic Variational Inference)\n",
        "def guide(X, Y):\n",
        "\t# Approximate posterior distributions for the parameters\n",
        "\tslope_loc = pyro.param(\"slope_loc\", torch.tensor(0.0))\n",
        "\tslope_scale = pyro.param(\"slope_scale\", torch.tensor(1.0),\n",
        "\t\t\t\t\t\t\tconstraint=dist.constraints.positive)\n",
        "\tintercept_loc = pyro.param(\"intercept_loc\", torch.tensor(0.0))\n",
        "\tintercept_scale = pyro.param(\"intercept_scale\", torch.tensor(1.0),\n",
        "\t\t\t\t\t\t\t\tconstraint=dist.constraints.positive)\n",
        "\tsigma_loc = pyro.param(\"sigma_loc\", torch.tensor(1.0),\n",
        "\t\t\t\t\t\tconstraint=dist.constraints.positive)\n",
        "\n",
        "\t# Sample from the approximate posterior distributions\n",
        "\tslope = pyro.sample(\"slope\", dist.Normal(slope_loc, slope_scale))\n",
        "\tintercept = pyro.sample(\"intercept\", dist.Normal(intercept_loc,\n",
        "\t\t\t\t\t\t\t\t\t\t\t\t\tintercept_scale))\n",
        "\tsigma = pyro.sample(\"sigma\", dist.HalfNormal(sigma_loc))\n",
        "\n",
        "# Initialize the SVI and optimizer\n",
        "optim = Adam({\"lr\": 0.01})\n",
        "svi = SVI(model, guide, optim, loss=Trace_ELBO())\n",
        "\n",
        "# Run the inference loop\n",
        "num_iterations = 1000\n",
        "for i in range(num_iterations):\n",
        "\tloss = svi.step(X, Y)\n",
        "\tif (i + 1) % 100 == 0:\n",
        "\t\tprint(f\"Iteration {i + 1}/{num_iterations} - Loss: {loss}\")\n",
        "\n",
        "# Obtain posterior samples using Predictive\n",
        "predictive = Predictive(model, guide=guide, num_samples=1000)\n",
        "posterior = predictive(X, Y)\n",
        "\n",
        "# Extract the parameter samples\n",
        "slope_samples = posterior[\"slope\"]\n",
        "intercept_samples = posterior[\"intercept\"]\n",
        "sigma_samples = posterior[\"sigma\"]\n",
        "\n",
        "# Compute the posterior means\n",
        "slope_mean = slope_samples.mean()\n",
        "intercept_mean = intercept_samples.mean()\n",
        "sigma_mean = sigma_samples.mean()\n",
        "\n",
        "# Print the estimated parameters\n",
        "print(\"Estimated Slope:\", slope_mean.item())\n",
        "print(\"Estimated Intercept:\", intercept_mean.item())\n",
        "print(\"Estimated Sigma:\", sigma_mean.item())\n",
        "\n",
        "\n",
        "# Create subplots\n",
        "fig, axs = plt.subplots(1, 3, figsize=(15, 5))\n",
        "\n",
        "# Plot the posterior distribution of the slope\n",
        "sns.kdeplot(slope_samples, shade=True, ax=axs[0])\n",
        "axs[0].set_title(\"Posterior Distribution of Slope\")\n",
        "axs[0].set_xlabel(\"Slope\")\n",
        "axs[0].set_ylabel(\"Density\")\n",
        "\n",
        "# Plot the posterior distribution of the intercept\n",
        "sns.kdeplot(intercept_samples, shade=True, ax=axs[1])\n",
        "axs[1].set_title(\"Posterior Distribution of Intercept\")\n",
        "axs[1].set_xlabel(\"Intercept\")\n",
        "axs[1].set_ylabel(\"Density\")\n",
        "\n",
        "# Plot the posterior distribution of sigma\n",
        "sns.kdeplot(sigma_samples, shade=True, ax=axs[2])\n",
        "axs[2].set_title(\"Posterior Distribution of Sigma\")\n",
        "axs[2].set_xlabel(\"Sigma\")\n",
        "axs[2].set_ylabel(\"Density\")\n",
        "\n",
        "# Adjust the layout\n",
        "plt.tight_layout()\n",
        "\n",
        "# Show the plot\n",
        "plt.show()\n"
      ],
      "metadata": {
        "id": "LV2eFF-Ff_eh",
        "outputId": "a26b7d20-622f-4767-b334-fcb281ebee85",
        "colab": {
          "base_uri": "https://localhost:8080/",
          "height": 383
        }
      },
      "execution_count": 16,
      "outputs": [
        {
          "output_type": "error",
          "ename": "ModuleNotFoundError",
          "evalue": "No module named 'pyro'",
          "traceback": [
            "\u001b[0;31m---------------------------------------------------------------------------\u001b[0m",
            "\u001b[0;31mModuleNotFoundError\u001b[0m                       Traceback (most recent call last)",
            "\u001b[0;32m<ipython-input-16-475f8b8850cf>\u001b[0m in \u001b[0;36m<cell line: 0>\u001b[0;34m()\u001b[0m\n\u001b[1;32m      1\u001b[0m \u001b[0;31m#Import the necessary libraries\u001b[0m\u001b[0;34m\u001b[0m\u001b[0;34m\u001b[0m\u001b[0m\n\u001b[1;32m      2\u001b[0m \u001b[0;32mimport\u001b[0m \u001b[0mtorch\u001b[0m\u001b[0;34m\u001b[0m\u001b[0;34m\u001b[0m\u001b[0m\n\u001b[0;32m----> 3\u001b[0;31m \u001b[0;32mimport\u001b[0m \u001b[0mpyro\u001b[0m\u001b[0;34m\u001b[0m\u001b[0;34m\u001b[0m\u001b[0m\n\u001b[0m\u001b[1;32m      4\u001b[0m \u001b[0;32mimport\u001b[0m \u001b[0mpyro\u001b[0m\u001b[0;34m.\u001b[0m\u001b[0mdistributions\u001b[0m \u001b[0;32mas\u001b[0m \u001b[0mdist\u001b[0m\u001b[0;34m\u001b[0m\u001b[0;34m\u001b[0m\u001b[0m\n\u001b[1;32m      5\u001b[0m \u001b[0;32mfrom\u001b[0m \u001b[0mpyro\u001b[0m\u001b[0;34m.\u001b[0m\u001b[0minfer\u001b[0m \u001b[0;32mimport\u001b[0m \u001b[0mSVI\u001b[0m\u001b[0;34m,\u001b[0m \u001b[0mTrace_ELBO\u001b[0m\u001b[0;34m,\u001b[0m \u001b[0mPredictive\u001b[0m\u001b[0;34m\u001b[0m\u001b[0;34m\u001b[0m\u001b[0m\n",
            "\u001b[0;31mModuleNotFoundError\u001b[0m: No module named 'pyro'",
            "",
            "\u001b[0;31m---------------------------------------------------------------------------\u001b[0;32m\nNOTE: If your import is failing due to a missing package, you can\nmanually install dependencies using either !pip or !apt.\n\nTo view examples of installing some common dependencies, click the\n\"Open Examples\" button below.\n\u001b[0;31m---------------------------------------------------------------------------\u001b[0m\n"
          ],
          "errorDetails": {
            "actions": [
              {
                "action": "open_url",
                "actionText": "Open Examples",
                "url": "/notebooks/snippets/importing_libraries.ipynb"
              }
            ]
          }
        }
      ]
    },
    {
      "cell_type": "code",
      "source": [
        "from scipy.stats import chi2_contingency\n",
        "\n",
        "# defining the table\n",
        "data = [[207, 282, 241], [234, 242, 232]]\n",
        "stat, p, dof, expected = chi2_contingency(data)\n",
        "\n",
        "# interpret p-value\n",
        "alpha = 0.05\n",
        "print(\"p value is \" + str(p))\n",
        "if p <= alpha:\n",
        "    print('Dependent (reject H0)')\n",
        "else:\n",
        "    print('Independent (H0 holds true)')"
      ],
      "metadata": {
        "id": "y-hLOkYngVEM",
        "outputId": "bd82610b-550d-4a93-ea53-0242aeb53173",
        "colab": {
          "base_uri": "https://localhost:8080/"
        }
      },
      "execution_count": 17,
      "outputs": [
        {
          "output_type": "stream",
          "name": "stdout",
          "text": [
            "p value is 0.1031971404730939\n",
            "Independent (H0 holds true)\n"
          ]
        }
      ]
    },
    {
      "cell_type": "code",
      "source": [
        "import numpy as np\n",
        "import matplotlib.pyplot as plt\n",
        "import scipy.stats as stats\n",
        "\n",
        "# Degrees of freedom and significance level\n",
        "df = 2\n",
        "alpha = 0.05\n",
        "\n",
        "# Critical value from the Chi-Square distribution table\n",
        "critical_value = stats.chi2.ppf(1 - alpha, df)\n",
        "critical_value"
      ],
      "metadata": {
        "id": "n1hWN-IAghh4",
        "outputId": "6637a179-d950-4291-af0c-54f99ad2ed03",
        "colab": {
          "base_uri": "https://localhost:8080/"
        }
      },
      "execution_count": 18,
      "outputs": [
        {
          "output_type": "execute_result",
          "data": {
            "text/plain": [
              "5.991464547107979"
            ]
          },
          "metadata": {},
          "execution_count": 18
        }
      ]
    },
    {
      "cell_type": "code",
      "source": [
        "import numpy as np\n",
        "from scipy.stats import chi2_contingency, norm  # Import necessary functions from SciPy\n",
        "\n",
        "# Sample observed data (replace with your actual data)\n",
        "observed_data = [10, 15, 20, 12, 18]\n",
        "\n",
        "# Define expected distribution (here, a normal distribution with mean=15, std=5)\n",
        "expected_distribution = norm(loc=15, scale=5)\n",
        "\n",
        "# Generate expected frequencies based on the expected distribution\n",
        "bins = np.linspace(min(observed_data), max(observed_data), len(observed_data) + 1)\n",
        "expected_counts = [len(observed_data) * expected_distribution.cdf(b) - len(observed_data) * expected_distribution.cdf(a) for a, b in zip(bins[:-1], bins[1:])]\n",
        "\n",
        "# Perform Chi-Square test\n",
        "chi_squared_stat, p_value, _, _ = chi2_contingency([observed_data, expected_counts])\n",
        "\n",
        "print(\"Chi-squared statistic:\", chi_squared_stat)\n",
        "print(\"p-value:\", p_value)\n",
        "\n",
        "# Interpretation:\n",
        "# If p-value is greater than a significance level (e.g., 0.05), we fail to reject the null hypothesis\n",
        "# and conclude that the observed data is not significantly different from the expected distribution"
      ],
      "metadata": {
        "id": "sVHF6SSQg_7d",
        "outputId": "74dadf51-2ea0-444b-e319-9a914e4ce04e",
        "colab": {
          "base_uri": "https://localhost:8080/"
        }
      },
      "execution_count": 19,
      "outputs": [
        {
          "output_type": "stream",
          "name": "stdout",
          "text": [
            "Chi-squared statistic: 0.17815025046254296\n",
            "p-value: 0.9962607104801705\n"
          ]
        }
      ]
    },
    {
      "cell_type": "code",
      "source": [
        "from scipy.stats import chi2_contingency\n",
        "\n",
        "# defining the table\n",
        "data = [[207, 282, 241], [234, 242, 232]]\n",
        "stat, p, dof, expected = chi2_contingency(data)\n",
        "\n",
        "# interpret p-value\n",
        "alpha = 0.05\n",
        "print(\"p value is \" + str(p))\n",
        "if p <= alpha:\n",
        "    print('Dependent (reject H0)')\n",
        "else:\n",
        "    print('Independent (H0 holds true)')"
      ],
      "metadata": {
        "id": "mrZ6BR2ihIOi",
        "outputId": "2c3ff313-7e84-4d77-b88e-5fc763e102b7",
        "colab": {
          "base_uri": "https://localhost:8080/"
        }
      },
      "execution_count": 20,
      "outputs": [
        {
          "output_type": "stream",
          "name": "stdout",
          "text": [
            "p value is 0.1031971404730939\n",
            "Independent (H0 holds true)\n"
          ]
        }
      ]
    },
    {
      "cell_type": "code",
      "source": [
        "from scipy.stats import chi2_contingency\n",
        "\n",
        "# defining the table\n",
        "data = [[207, 282, 241], [234, 242, 232]]\n",
        "stat, p, dof, expected = chi2_contingency(data)\n",
        "\n",
        "# interpret p-value\n",
        "alpha = 0.05\n",
        "print(\"p value is \" + str(p))\n",
        "if p <= alpha:\n",
        "    print('Dependent (reject H0)')\n",
        "else:\n",
        "    print('Independent (H0 holds true)')"
      ],
      "metadata": {
        "id": "gteNui2CiGnv",
        "outputId": "42e118c2-9581-40b1-840c-4cb123174143",
        "colab": {
          "base_uri": "https://localhost:8080/"
        }
      },
      "execution_count": 21,
      "outputs": [
        {
          "output_type": "stream",
          "name": "stdout",
          "text": [
            "p value is 0.1031971404730939\n",
            "Independent (H0 holds true)\n"
          ]
        }
      ]
    },
    {
      "cell_type": "code",
      "source": [
        "from scipy.stats import chi2_contingency\n",
        "\n",
        "# defining the table\n",
        "data = [[207, 282, 241], [234, 242, 232]]\n",
        "stat, p, dof, expected = chi2_contingency(data)\n",
        "\n",
        "# interpret p-value\n",
        "alpha = 0.05\n",
        "print(\"p value is \" + str(p))\n",
        "if p <= alpha:\n",
        "    print('Dependent (reject H0)')\n",
        "else:\n",
        "    print('Independent (H0 holds true)')"
      ],
      "metadata": {
        "id": "b1i0d-2biam1",
        "outputId": "29b8902b-b449-435f-ca61-a3cbce01e423",
        "colab": {
          "base_uri": "https://localhost:8080/"
        }
      },
      "execution_count": 23,
      "outputs": [
        {
          "output_type": "stream",
          "name": "stdout",
          "text": [
            "p value is 0.1031971404730939\n",
            "Independent (H0 holds true)\n"
          ]
        }
      ]
    },
    {
      "cell_type": "code",
      "source": [
        "# Check if the variances are significantly different at a 0.05 significance level\n",
        "if p_value < 0.05:\n",
        "    print(\"Reject the null hypothesis: Variances are significantly different.\")\n",
        "else:\n",
        "    print(\"Fail to reject the null hypothesis: Variances are not significantly different.\")"
      ],
      "metadata": {
        "id": "DuCdIvndi7o0",
        "outputId": "79e478a0-7040-4bf2-b8e6-c0be5a0f441a",
        "colab": {
          "base_uri": "https://localhost:8080/"
        }
      },
      "execution_count": 28,
      "outputs": [
        {
          "output_type": "stream",
          "name": "stdout",
          "text": [
            "Fail to reject the null hypothesis: Variances are not significantly different.\n"
          ]
        }
      ]
    },
    {
      "cell_type": "code",
      "source": [
        "# Importing library\n",
        "from scipy.stats import f_oneway\n",
        "\n",
        "# Performance when each of the engine\n",
        "# oil is applied\n",
        "performance1 = [89, 89, 88, 78, 79]\n",
        "performance2 = [93, 92, 94, 89, 88]\n",
        "performance3 = [89, 88, 89, 93, 90]\n",
        "performance4 = [81, 78, 81, 92, 82]\n",
        "\n",
        "# Conduct the one-way ANOVA\n",
        "f_oneway(performance1, performance2, performance3, performance4)"
      ],
      "metadata": {
        "id": "ImBkoFXijJUb",
        "outputId": "ccc639f4-6277-4180-d25e-9a51962e12bd",
        "colab": {
          "base_uri": "https://localhost:8080/"
        }
      },
      "execution_count": 29,
      "outputs": [
        {
          "output_type": "execute_result",
          "data": {
            "text/plain": [
              "F_onewayResult(statistic=4.625000000000002, pvalue=0.016336459839780215)"
            ]
          },
          "metadata": {},
          "execution_count": 29
        }
      ]
    },
    {
      "cell_type": "code",
      "source": [
        "import pandas as pd\n",
        "import matplotlib.pyplot as plt\n",
        "from scipy.stats import f_oneway\n",
        "\n",
        "# Sample data\n",
        "data = {'Group A': [10, 12, 15, 11, 9], 'Group B': [8, 7, 10, 9, 11], 'Group C': [5, 6, 8, 7, 4]}\n",
        "df = pd.DataFrame(data)\n",
        "\n",
        "# Perform one-way ANOVA\n",
        "group_a = df['Group A']\n",
        "group_b = df['Group B']\n",
        "group_c = df['Group C']\n",
        "f_stat, p_val = f_oneway(group_a, group_b, group_c)\n",
        "\n",
        "print(\"F-statistic:\", f_stat)\n",
        "print(\"p-value:\", p_val)\n",
        "\n",
        "# Plot boxplot for visualization\n",
        "plt.figure(figsize=(8, 5))\n",
        "plt.boxplot([group_a, group_b, group_c], labels=['Group A', 'Group B', 'Group C'])\n",
        "plt.ylabel('Values')\n",
        "plt.title('One-way ANOVA Comparison')\n",
        "plt.show()"
      ],
      "metadata": {
        "id": "rhJ0fWFujl9a",
        "outputId": "0e43829b-f282-4f3e-b805-7348792698ce",
        "colab": {
          "base_uri": "https://localhost:8080/",
          "height": 557
        }
      },
      "execution_count": 30,
      "outputs": [
        {
          "output_type": "stream",
          "name": "stdout",
          "text": [
            "F-statistic: 10.660194174757281\n",
            "p-value: 0.002181861351462553\n"
          ]
        },
        {
          "output_type": "stream",
          "name": "stderr",
          "text": [
            "<ipython-input-30-8d2f6722be81>:20: MatplotlibDeprecationWarning: The 'labels' parameter of boxplot() has been renamed 'tick_labels' since Matplotlib 3.9; support for the old name will be dropped in 3.11.\n",
            "  plt.boxplot([group_a, group_b, group_c], labels=['Group A', 'Group B', 'Group C'])\n"
          ]
        },
        {
          "output_type": "display_data",
          "data": {
            "text/plain": [
              "<Figure size 800x500 with 1 Axes>"
            ],
            "image/png": "[encoded data removed]"
          },
          "metadata": {}
        }
      ]
    },
    {
      "cell_type": "code",
      "source": [],
      "metadata": {
        "id": "pra-1lGajrFq",
        "outputId": "d8a77ca1-1bb6-4b54-c03a-965a04d610ad",
        "colab": {
          "base_uri": "https://localhost:8080/",
          "height": 106
        }
      },
      "execution_count": 31,
      "outputs": [
        {
          "output_type": "error",
          "ename": "SyntaxError",
          "evalue": "invalid syntax (<ipython-input-31-17de7b830d96>, line 23)",
          "traceback": [
            "\u001b[0;36m  File \u001b[0;32m\"<ipython-input-31-17de7b830d96>\"\u001b[0;36m, line \u001b[0;32m23\u001b[0m\n\u001b[0;31m    We will take a quick look at our data via histogram and distribution plots.\u001b[0m\n\u001b[0m       ^\u001b[0m\n\u001b[0;31mSyntaxError\u001b[0m\u001b[0;31m:\u001b[0m invalid syntax\n"
          ]
        }
      ]
    },
    {
      "cell_type": "code",
      "source": [
        "\n",
        "\n",
        "# Importing library\n",
        "from scipy.stats import f_oneway\n",
        "\n",
        "# Performance when each of the engine\n",
        "# oil is applied\n",
        "performance1 = [89, 89, 88, 78, 79]\n",
        "performance2 = [93, 92, 94, 89, 88]\n",
        "performance3 = [89, 88, 89, 93, 90]\n",
        "performance4 = [81, 78, 81, 92, 82]\n",
        "\n",
        "# Conduct the one-way ANOVA\n",
        "f_oneway(performance1, performance2, performance3, performance4)"
      ],
      "metadata": {
        "id": "EG9HxMWmj1tZ",
        "outputId": "d95e3955-2623-4864-ce3f-d4a96c6198ae",
        "colab": {
          "base_uri": "https://localhost:8080/"
        }
      },
      "execution_count": 38,
      "outputs": [
        {
          "output_type": "execute_result",
          "data": {
            "text/plain": [
              "F_onewayResult(statistic=4.625000000000002, pvalue=0.016336459839780215)"
            ]
          },
          "metadata": {},
          "execution_count": 38
        }
      ]
    },
    {
      "cell_type": "code",
      "source": [
        "# Importing libraries\n",
        "import numpy as np\n",
        "import pandas as pd\n",
        "\n",
        "# Importing libraries\n",
        "import numpy as np\n",
        "import pandas as pd\n",
        "\n",
        "# Create a dataframe\n",
        "dataframe = pd.DataFrame({'Fertilizer': np.repeat(['daily', 'weekly'], 15),\n",
        "                          'Watering': np.repeat(['daily', 'weekly'], 15),\n",
        "                          'height': [14, 16, 15, 15, 16, 13, 12, 11, 14,\n",
        "                                     15, 16, 16, 17, 18, 14, 13, 14, 14,\n",
        "                                     14, 15, 16, 16, 17, 18, 14, 13, 14,\n",
        "                                     14, 14, 15]})\n",
        "\n",
        "# Importing libraries\n",
        "import statsmodels.api as sm\n",
        "from statsmodels.formula.api import ols\n",
        "\n",
        "# Performing two-way ANOVA\n",
        "model = ols(\n",
        "    'height ~ C(Fertilizer) + C(Watering) +\\\n",
        "    C(Fertilizer):C(Watering)', data=df).fit()\n",
        "sm.stats.anova_lm(model, typ=2)\n",
        "\n",
        "# Importing libraries\n",
        "import statsmodels.api as sm\n",
        "from statsmodels.formula.api import ols\n",
        "\n",
        "# Create a dataframe\n",
        "dataframe = pd.DataFrame({'Fertilizer': np.repeat(['daily', 'weekly'], 15),\n",
        "\t\t\t\t\t\t'Watering': np.repeat(['daily', 'weekly'], 15),\n",
        "\t\t\t\t\t\t'height': [14, 16, 15, 15, 16, 13, 12, 11,\n",
        "\t\t\t\t\t\t\t\t\t14, 15, 16, 16, 17, 18, 14, 13,\n",
        "\t\t\t\t\t\t\t\t\t14, 14, 14, 15, 16, 16, 17, 18,\n",
        "\t\t\t\t\t\t\t\t\t14, 13, 14, 14, 14, 15]})\n",
        "\n",
        "\n",
        "# Performing two-way ANOVA\n",
        "model = ols('height ~ C(Fertilizer) + C(Watering) +\\\n",
        "C(Fertilizer):C(Watering)',\n",
        "\t\t\tdata=dataframe).fit()\n",
        "result = sm.stats.anova_lm(model, type=2)\n",
        "\n",
        "# Print the result\n",
        "print(result)\n",
        "\n",
        "\n",
        "# Importing libraries\n",
        "import statsmodels.api as sm\n",
        "from statsmodels.formula.api import ols\n",
        "\n",
        "# Create a dataframe\n",
        "dataframe = pd.DataFrame({'Fertilizer': np.repeat(['daily', 'weekly'], 15),\n",
        "\t\t\t\t\t\t'Watering': np.repeat(['daily', 'weekly'], 15),\n",
        "\t\t\t\t\t\t'height': [14, 16, 15, 15, 16, 13, 12, 11,\n",
        "\t\t\t\t\t\t\t\t\t14, 15, 16, 16, 17, 18, 14, 13,\n",
        "\t\t\t\t\t\t\t\t\t14, 14, 14, 15, 16, 16, 17, 18,\n",
        "\t\t\t\t\t\t\t\t\t14, 13, 14, 14, 14, 15]})\n",
        "\n",
        "\n",
        "# Performing two-way ANOVA\n",
        "model = ols('height ~ C(Fertilizer) + C(Watering) +\\\n",
        "C(Fertilizer):C(Watering)',\n",
        "\t\t\tdata=dataframe).fit()\n",
        "result = sm.stats.anova_lm(model, type=2)\n",
        "\n",
        "# Print the result\n",
        "print(result)\n"
      ],
      "metadata": {
        "id": "r3xc_jrMkBKY",
        "outputId": "c898e878-14bf-4161-de65-37f6ebc50678",
        "colab": {
          "base_uri": "https://localhost:8080/",
          "height": 106
        }
      },
      "execution_count": 44,
      "outputs": [
        {
          "output_type": "error",
          "ename": "SyntaxError",
          "evalue": "unterminated string literal (detected at line 23) (<ipython-input-44-c0194d28a177>, line 23)",
          "traceback": [
            "\u001b[0;36m  File \u001b[0;32m\"<ipython-input-44-c0194d28a177>\"\u001b[0;36m, line \u001b[0;32m23\u001b[0m\n\u001b[0;31m    'height ~ C(Fertilizer) + C(Watering) +\\\u001b[0m\n\u001b[0m    ^\u001b[0m\n\u001b[0;31mSyntaxError\u001b[0m\u001b[0;31m:\u001b[0m unterminated string literal (detected at line 23)\n"
          ]
        }
      ]
    },
    {
      "cell_type": "code",
      "source": [
        "import numpy as np\n",
        "import scipy.stats as stats\n",
        "\n",
        "# Create the data for two groups\n",
        "group1 = np.random.rand(25)\n",
        "group2 = np.random.rand(20)\n",
        "\n",
        "# Calculate the sample variances\n",
        "variance1 = np.var(group1, ddof=1)\n",
        "variance2 = np.var(group2, ddof=1)\n",
        "\n",
        "# Calculate the F-statistic\n",
        "f_value = variance1 / variance2\n",
        "\n",
        "# Calculate the degrees of freedom\n",
        "df1 = len(group1) - 1\n",
        "df2 = len(group2) - 1\n",
        "\n",
        "# Calculate the p-value\n",
        "p_value = stats.f.cdf(f_value, df1, df2)\n",
        "\n",
        "# Print the results\n",
        "print('Degree of freedom 1:',df1)\n",
        "print('Degree of freedom 2:',df2)\n",
        "print(\"F-statistic:\", f_value)\n",
        "print(\"p-value:\", p_value)\n"
      ],
      "metadata": {
        "id": "GDeLJu-8ktz2",
        "outputId": "6111b980-7515-43e1-e651-54eb3ad27fd7",
        "colab": {
          "base_uri": "https://localhost:8080/"
        }
      },
      "execution_count": 45,
      "outputs": [
        {
          "output_type": "stream",
          "name": "stdout",
          "text": [
            "Degree of freedom 1: 24\n",
            "Degree of freedom 2: 19\n",
            "F-statistic: 0.8574984370563173\n",
            "p-value: 0.35654706478889014\n"
          ]
        }
      ]
    },
    {
      "cell_type": "code",
      "source": [
        "import pandas as pd\n",
        "import matplotlib.pyplot as plt\n",
        "from scipy.stats import f_oneway  # Import the ANOVA function from scipy.stats\n",
        "\n",
        "# Sample data (replace with your own data)\n",
        "data = {'Group A': [10, 12, 15, 11, 9], 'Group B': [5, 7, 8, 6, 4], 'Group C': [20, 22, 18, 21, 19]}\n",
        "df = pd.DataFrame(data)\n",
        "\n",
        "# Perform One-way ANOVA\n",
        "group_a = df['Group A']\n",
        "group_b = df['Group B']\n",
        "group_c = df['Group C']\n",
        "f_stat, p_val = f_oneway(group_a, group_b, group_c)\n",
        "\n",
        "print(\"F-statistic:\", f_stat)\n",
        "print(\"p-value:\", p_val)\n",
        "\n",
        "# Visualize with boxplots\n",
        "plt.figure(figsize=(8, 5))\n",
        "plt.boxplot([group_a, group_b, group_c], labels=['Group A', 'Group B', 'Group C'])\n",
        "plt.xlabel(\"Groups\")\n",
        "plt.ylabel(\"Values\")\n",
        "plt.title(\"One-way ANOVA Comparison\")\n",
        "plt.show()"
      ],
      "metadata": {
        "id": "DHojkMWMlPvY",
        "outputId": "ff882f25-0c25-4c6a-9d9a-1c586c22fa3b",
        "colab": {
          "base_uri": "https://localhost:8080/",
          "height": 576
        }
      },
      "execution_count": 46,
      "outputs": [
        {
          "output_type": "stream",
          "name": "stdout",
          "text": [
            "F-statistic: 72.60194174757254\n",
            "p-value: 1.9783715296755006e-07\n"
          ]
        },
        {
          "output_type": "stream",
          "name": "stderr",
          "text": [
            "<ipython-input-46-a038f6094485>:20: MatplotlibDeprecationWarning: The 'labels' parameter of boxplot() has been renamed 'tick_labels' since Matplotlib 3.9; support for the old name will be dropped in 3.11.\n",
            "  plt.boxplot([group_a, group_b, group_c], labels=['Group A', 'Group B', 'Group C'])\n"
          ]
        },
        {
          "output_type": "display_data",
          "data": {
            "text/plain": [
              "<Figure size 800x500 with 1 Axes>"
            ],
            "image/png": "[encoded data removed]"
          },
          "metadata": {}
        }
      ]
    },
    {
      "cell_type": "code",
      "source": [
        "# Set parameters\n",
        "\n",
        "population_mean <- 10\n",
        "\n",
        "population_sd <- 2\n",
        "\n",
        "sample_size <- 100\n",
        "\n",
        "\n",
        "\n",
        "# Generate random data\n",
        "\n",
        "data <- rnorm(sample_size, mean = population_mean, sd = population_sd)\n"
      ],
      "metadata": {
        "id": "TamIpRwylYH0",
        "outputId": "ff55b76e-5abd-4abd-eba4-fdf776d8b740",
        "colab": {
          "base_uri": "https://localhost:8080/",
          "height": 211
        }
      },
      "execution_count": 47,
      "outputs": [
        {
          "output_type": "error",
          "ename": "NameError",
          "evalue": "name 'population_sd' is not defined",
          "traceback": [
            "\u001b[0;31m---------------------------------------------------------------------------\u001b[0m",
            "\u001b[0;31mNameError\u001b[0m                                 Traceback (most recent call last)",
            "\u001b[0;32m<ipython-input-47-6819cfeaa89a>\u001b[0m in \u001b[0;36m<cell line: 0>\u001b[0;34m()\u001b[0m\n\u001b[1;32m      3\u001b[0m \u001b[0mpopulation_mean\u001b[0m \u001b[0;34m<\u001b[0m\u001b[0;34m-\u001b[0m \u001b[0;36m10\u001b[0m\u001b[0;34m\u001b[0m\u001b[0;34m\u001b[0m\u001b[0m\n\u001b[1;32m      4\u001b[0m \u001b[0;34m\u001b[0m\u001b[0m\n\u001b[0;32m----> 5\u001b[0;31m \u001b[0mpopulation_sd\u001b[0m \u001b[0;34m<\u001b[0m\u001b[0;34m-\u001b[0m \u001b[0;36m2\u001b[0m\u001b[0;34m\u001b[0m\u001b[0;34m\u001b[0m\u001b[0m\n\u001b[0m\u001b[1;32m      6\u001b[0m \u001b[0;34m\u001b[0m\u001b[0m\n\u001b[1;32m      7\u001b[0m \u001b[0msample_size\u001b[0m \u001b[0;34m<\u001b[0m\u001b[0;34m-\u001b[0m \u001b[0;36m100\u001b[0m\u001b[0;34m\u001b[0m\u001b[0;34m\u001b[0m\u001b[0m\n",
            "\u001b[0;31mNameError\u001b[0m: name 'population_sd' is not defined"
          ]
        }
      ]
    },
    {
      "cell_type": "code",
      "source": [
        "import math\n",
        "\n",
        "P = 0.86\n",
        "Po = 0.80\n",
        "n = 100\n",
        "a = (P-Po)\n",
        "b = Po*(1-Po)/n\n",
        "z = a/math.sqrt(b)\n",
        "print(z)"
      ],
      "metadata": {
        "id": "n-fNbavLlkwr",
        "outputId": "7c05aabf-6d8b-4f78-fcd2-30e1ffbc3b6d",
        "colab": {
          "base_uri": "https://localhost:8080/"
        }
      },
      "execution_count": 48,
      "outputs": [
        {
          "output_type": "stream",
          "name": "stdout",
          "text": [
            "1.4999999999999984\n"
          ]
        }
      ]
    },
    {
      "cell_type": "code",
      "source": [
        "import numpy as np\n",
        "from scipy.stats import f_test\n",
        "\n",
        "def f_test(data1, data2):\n",
        "    \"\"\"\n",
        "    Performs an F-test to compare the variances of two datasets.\n",
        "\n",
        "    Args:\n",
        "        data1 (array-like): First dataset.\n",
        "        data2 (array-like): Second dataset.\n",
        "\n",
        "    Returns:\n",
        "        tuple: (F-statistic, p-value)\n",
        "    \"\"\"\n",
        "\n",
        "    var1 = np.var(data1, ddof=1)  # Sample variance of data1\n",
        "    var2 = np.var(data2, ddof=1)  # Sample variance of data2\n",
        "\n",
        "    # Calculate F-statistic\n",
        "    F = var1 / var2\n",
        "\n",
        "    # Calculate p-value using scipy.stats.f_test\n",
        "    p_value = f_test(var1, var2,\n",
        "                     dfnum=len(data1) - 1, dfden=len(data2) - 1)[1]\n",
        "\n",
        "    return F, p_value\n",
        "\n",
        "# Example usage\n",
        "data_set_A = [1, 2, 3, 4, 5, 6, 7]\n",
        "data_set_B = [10, 11, 12, 13, 14, 15, 16]\n",
        "\n",
        "F_stat, p_val = f_test(data_set_A, data_set_B)\n",
        "\n",
        "print(f\"F-statistic: {F_stat}, p-value: {p_val}\")\n",
        "\n",
        "# Interpretation\n",
        "if p_val < 0.05:\n",
        "    print(\"Reject the null hypothesis: Significant difference in variances\")\n",
        "else:\n",
        "    print(\"Fail to reject the null hypothesis: No significant difference in variances\")\n",
        "\n",
        "# Visualization (optional)\n",
        "import matplotlib.pyplot as plt\n",
        "\n",
        "plt.figure(figsize=(8, 5))\n",
        "plt.hist(data_set_A, alpha=0.5, label=\"Data Set A\")\n",
        "plt.hist(data_set_B, alpha=0.5, label=\"Data Set B\")\n",
        "plt.legend()\n",
        "plt.title(\"Comparison of Data Sets\")\n",
        "plt.show()"
      ],
      "metadata": {
        "id": "r87vUL2dl0W3",
        "outputId": "ea01abba-853b-4986-e655-4e9472dcb46f",
        "colab": {
          "base_uri": "https://localhost:8080/",
          "height": 401
        }
      },
      "execution_count": 49,
      "outputs": [
        {
          "output_type": "error",
          "ename": "ImportError",
          "evalue": "cannot import name 'f_test' from 'scipy.stats' (/usr/local/lib/python3.11/dist-packages/scipy/stats/__init__.py)",
          "traceback": [
            "\u001b[0;31m---------------------------------------------------------------------------\u001b[0m",
            "\u001b[0;31mImportError\u001b[0m                               Traceback (most recent call last)",
            "\u001b[0;32m<ipython-input-49-b105c54beea3>\u001b[0m in \u001b[0;36m<cell line: 0>\u001b[0;34m()\u001b[0m\n\u001b[1;32m      1\u001b[0m \u001b[0;32mimport\u001b[0m \u001b[0mnumpy\u001b[0m \u001b[0;32mas\u001b[0m \u001b[0mnp\u001b[0m\u001b[0;34m\u001b[0m\u001b[0;34m\u001b[0m\u001b[0m\n\u001b[0;32m----> 2\u001b[0;31m \u001b[0;32mfrom\u001b[0m \u001b[0mscipy\u001b[0m\u001b[0;34m.\u001b[0m\u001b[0mstats\u001b[0m \u001b[0;32mimport\u001b[0m \u001b[0mf_test\u001b[0m\u001b[0;34m\u001b[0m\u001b[0;34m\u001b[0m\u001b[0m\n\u001b[0m\u001b[1;32m      3\u001b[0m \u001b[0;34m\u001b[0m\u001b[0m\n\u001b[1;32m      4\u001b[0m \u001b[0;32mdef\u001b[0m \u001b[0mf_test\u001b[0m\u001b[0;34m(\u001b[0m\u001b[0mdata1\u001b[0m\u001b[0;34m,\u001b[0m \u001b[0mdata2\u001b[0m\u001b[0;34m)\u001b[0m\u001b[0;34m:\u001b[0m\u001b[0;34m\u001b[0m\u001b[0;34m\u001b[0m\u001b[0m\n\u001b[1;32m      5\u001b[0m     \"\"\"\n",
            "\u001b[0;31mImportError\u001b[0m: cannot import name 'f_test' from 'scipy.stats' (/usr/local/lib/python3.11/dist-packages/scipy/stats/__init__.py)",
            "",
            "\u001b[0;31m---------------------------------------------------------------------------\u001b[0;32m\nNOTE: If your import is failing due to a missing package, you can\nmanually install dependencies using either !pip or !apt.\n\nTo view examples of installing some common dependencies, click the\n\"Open Examples\" button below.\n\u001b[0;31m---------------------------------------------------------------------------\u001b[0m\n"
          ],
          "errorDetails": {
            "actions": [
              {
                "action": "open_url",
                "actionText": "Open Examples",
                "url": "/notebooks/snippets/importing_libraries.ipynb"
              }
            ]
          }
        }
      ]
    },
    {
      "cell_type": "code",
      "source": [
        "\n"
      ],
      "metadata": {
        "id": "OVKgJB5al5na",
        "outputId": "c205f14a-7693-4439-ced0-1547325fee57",
        "colab": {
          "base_uri": "https://localhost:8080/",
          "height": 106
        }
      },
      "execution_count": 50,
      "outputs": [
        {
          "output_type": "error",
          "ename": "SyntaxError",
          "evalue": "invalid character '²' (U+00B2) (<ipython-input-50-797986f2bfb4>, line 1)",
          "traceback": [
            "\u001b[0;36m  File \u001b[0;32m\"<ipython-input-50-797986f2bfb4>\"\u001b[0;36m, line \u001b[0;32m1\u001b[0m\n\u001b[0;31m    χ² = Σ ((O - E)² / E)\u001b[0m\n\u001b[0m     ^\u001b[0m\n\u001b[0;31mSyntaxError\u001b[0m\u001b[0;31m:\u001b[0m invalid character '²' (U+00B2)\n"
          ]
        }
      ]
    },
    {
      "cell_type": "code",
      "source": [],
      "metadata": {
        "id": "m9rdJWjWmAqy"
      },
      "execution_count": null,
      "outputs": []
    }
  ]
}